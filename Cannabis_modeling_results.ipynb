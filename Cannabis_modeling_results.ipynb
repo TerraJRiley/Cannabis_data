{
 "cells": [
  {
   "cell_type": "markdown",
   "metadata": {},
   "source": [
    "## Problem Statement/Goal\n",
    " - Pull insights and see what I can do to predict a change.\n",
    " \n",
    " People who did the most sessions preferred which method?\n",
    " What other habits were formed by using more of the app?\n",
    " \n",
    "Marajuana might be a great way for people to treat depression, anxiety and stress, at least in the short term before finding more sustainable and longterm solutions.  If one could build a model which could predict the potential change for a consumer, then a company might then be able to reccomend targeted suggestions for a specific customer based on what would be most effective and helpful for them."
   ]
  },
  {
   "cell_type": "markdown",
   "metadata": {},
   "source": [
    "All metrics will be in Median Error because I'm shooting to be able to predict the error within a certain error threshold for the majority of the time and getting the mean would allow certain outliers to squew the results."
   ]
  },
  {
   "cell_type": "markdown",
   "metadata": {},
   "source": [
    "## Imports"
   ]
  },
  {
   "cell_type": "code",
   "execution_count": 89,
   "metadata": {},
   "outputs": [],
   "source": [
    "# Standard & quality of life imports\n",
    "import pandas as pd   #loc[row_indexer,col_indexer]\n",
    "import numpy as np\n",
    "import matplotlib.pyplot as plt\n",
    "import seaborn as sns\n",
    "import re\n",
    "import warnings\n",
    "warnings.filterwarnings('ignore')\n",
    "from time import time\n",
    "from datetime import datetime\n",
    "%matplotlib inline\n",
    "\n",
    "# Model prep & metric imports\n",
    "import sklearn.metrics as metrics\n",
    "from sklearn.grid_search import GridSearchCV, RandomizedSearchCV\n",
    "from sklearn.model_selection import train_test_split, cross_val_score\n",
    "from sklearn.preprocessing import Normalizer, MinMaxScaler, StandardScaler\n",
    "from sklearn.decomposition import PCA\n",
    "\n",
    "# Regression model imports\n",
    "from sklearn.linear_model import LinearRegression\n",
    "from sklearn.ensemble import RandomForestRegressor\n",
    "from xgboost import XGBRegressor\n",
    "\n",
    "# Neural Network Imports\n",
    "from keras.models import Sequential\n",
    "from keras.layers import Dense, LSTM, Dropout, Masking, Embedding\n",
    "from keras import backend\n",
    "\n",
    "df = pd.read_csv('./data/all_symptoms_cleaned.csv')"
   ]
  },
  {
   "cell_type": "code",
   "execution_count": 94,
   "metadata": {},
   "outputs": [
    {
     "data": {
      "text/html": [
       "<div>\n",
       "<style scoped>\n",
       "    .dataframe tbody tr th:only-of-type {\n",
       "        vertical-align: middle;\n",
       "    }\n",
       "\n",
       "    .dataframe tbody tr th {\n",
       "        vertical-align: top;\n",
       "    }\n",
       "\n",
       "    .dataframe thead th {\n",
       "        text-align: right;\n",
       "    }\n",
       "</style>\n",
       "<table border=\"1\" class=\"dataframe\">\n",
       "  <thead>\n",
       "    <tr style=\"text-align: right;\">\n",
       "      <th></th>\n",
       "      <th>session</th>\n",
       "      <th>userid</th>\n",
       "      <th>gender</th>\n",
       "      <th>age</th>\n",
       "      <th>dose</th>\n",
       "      <th>time_lag</th>\n",
       "      <th>thc_%</th>\n",
       "      <th>cbd_%</th>\n",
       "      <th>before</th>\n",
       "      <th>after</th>\n",
       "      <th>...</th>\n",
       "      <th>has_cbd</th>\n",
       "      <th>dd_gender_vape</th>\n",
       "      <th>dd_gender_smoke</th>\n",
       "      <th>dd_gender_symptom_a</th>\n",
       "      <th>dd_gender_symptom_d</th>\n",
       "      <th>dd_sym_a_before</th>\n",
       "      <th>dd_sym_d_before</th>\n",
       "      <th>dd_sym_s_before</th>\n",
       "      <th>td_sym_a_gender_before</th>\n",
       "      <th>td_sym_d_gender_before</th>\n",
       "    </tr>\n",
       "  </thead>\n",
       "  <tbody>\n",
       "    <tr>\n",
       "      <th>105</th>\n",
       "      <td>25</td>\n",
       "      <td>278</td>\n",
       "      <td>1</td>\n",
       "      <td>33</td>\n",
       "      <td>10</td>\n",
       "      <td>28.3</td>\n",
       "      <td>18.00</td>\n",
       "      <td>0.00</td>\n",
       "      <td>4</td>\n",
       "      <td>3</td>\n",
       "      <td>...</td>\n",
       "      <td>0</td>\n",
       "      <td>1</td>\n",
       "      <td>0</td>\n",
       "      <td>0</td>\n",
       "      <td>1</td>\n",
       "      <td>0</td>\n",
       "      <td>4</td>\n",
       "      <td>0</td>\n",
       "      <td>0</td>\n",
       "      <td>4</td>\n",
       "    </tr>\n",
       "    <tr>\n",
       "      <th>106</th>\n",
       "      <td>26</td>\n",
       "      <td>278</td>\n",
       "      <td>1</td>\n",
       "      <td>33</td>\n",
       "      <td>10</td>\n",
       "      <td>21.4</td>\n",
       "      <td>17.50</td>\n",
       "      <td>0.00</td>\n",
       "      <td>5</td>\n",
       "      <td>3</td>\n",
       "      <td>...</td>\n",
       "      <td>0</td>\n",
       "      <td>1</td>\n",
       "      <td>0</td>\n",
       "      <td>0</td>\n",
       "      <td>1</td>\n",
       "      <td>0</td>\n",
       "      <td>5</td>\n",
       "      <td>0</td>\n",
       "      <td>0</td>\n",
       "      <td>5</td>\n",
       "    </tr>\n",
       "    <tr>\n",
       "      <th>107</th>\n",
       "      <td>27</td>\n",
       "      <td>278</td>\n",
       "      <td>1</td>\n",
       "      <td>33</td>\n",
       "      <td>10</td>\n",
       "      <td>22.3</td>\n",
       "      <td>18.00</td>\n",
       "      <td>0.00</td>\n",
       "      <td>4</td>\n",
       "      <td>2</td>\n",
       "      <td>...</td>\n",
       "      <td>0</td>\n",
       "      <td>1</td>\n",
       "      <td>0</td>\n",
       "      <td>0</td>\n",
       "      <td>1</td>\n",
       "      <td>0</td>\n",
       "      <td>4</td>\n",
       "      <td>0</td>\n",
       "      <td>0</td>\n",
       "      <td>4</td>\n",
       "    </tr>\n",
       "    <tr>\n",
       "      <th>108</th>\n",
       "      <td>1</td>\n",
       "      <td>283</td>\n",
       "      <td>1</td>\n",
       "      <td>27</td>\n",
       "      <td>4</td>\n",
       "      <td>35.9</td>\n",
       "      <td>19.90</td>\n",
       "      <td>0.04</td>\n",
       "      <td>6</td>\n",
       "      <td>4</td>\n",
       "      <td>...</td>\n",
       "      <td>1</td>\n",
       "      <td>0</td>\n",
       "      <td>1</td>\n",
       "      <td>0</td>\n",
       "      <td>1</td>\n",
       "      <td>0</td>\n",
       "      <td>6</td>\n",
       "      <td>0</td>\n",
       "      <td>0</td>\n",
       "      <td>6</td>\n",
       "    </tr>\n",
       "    <tr>\n",
       "      <th>109</th>\n",
       "      <td>1</td>\n",
       "      <td>286</td>\n",
       "      <td>1</td>\n",
       "      <td>48</td>\n",
       "      <td>5</td>\n",
       "      <td>47.6</td>\n",
       "      <td>17.50</td>\n",
       "      <td>0.00</td>\n",
       "      <td>3</td>\n",
       "      <td>1</td>\n",
       "      <td>...</td>\n",
       "      <td>0</td>\n",
       "      <td>1</td>\n",
       "      <td>0</td>\n",
       "      <td>0</td>\n",
       "      <td>1</td>\n",
       "      <td>0</td>\n",
       "      <td>3</td>\n",
       "      <td>0</td>\n",
       "      <td>0</td>\n",
       "      <td>3</td>\n",
       "    </tr>\n",
       "    <tr>\n",
       "      <th>110</th>\n",
       "      <td>1</td>\n",
       "      <td>295</td>\n",
       "      <td>0</td>\n",
       "      <td>56</td>\n",
       "      <td>4</td>\n",
       "      <td>26.8</td>\n",
       "      <td>15.00</td>\n",
       "      <td>5.00</td>\n",
       "      <td>4</td>\n",
       "      <td>4</td>\n",
       "      <td>...</td>\n",
       "      <td>1</td>\n",
       "      <td>0</td>\n",
       "      <td>0</td>\n",
       "      <td>0</td>\n",
       "      <td>0</td>\n",
       "      <td>0</td>\n",
       "      <td>4</td>\n",
       "      <td>0</td>\n",
       "      <td>0</td>\n",
       "      <td>0</td>\n",
       "    </tr>\n",
       "    <tr>\n",
       "      <th>111</th>\n",
       "      <td>2</td>\n",
       "      <td>295</td>\n",
       "      <td>0</td>\n",
       "      <td>56</td>\n",
       "      <td>4</td>\n",
       "      <td>124.4</td>\n",
       "      <td>15.00</td>\n",
       "      <td>5.00</td>\n",
       "      <td>4</td>\n",
       "      <td>4</td>\n",
       "      <td>...</td>\n",
       "      <td>1</td>\n",
       "      <td>0</td>\n",
       "      <td>0</td>\n",
       "      <td>0</td>\n",
       "      <td>0</td>\n",
       "      <td>0</td>\n",
       "      <td>4</td>\n",
       "      <td>0</td>\n",
       "      <td>0</td>\n",
       "      <td>0</td>\n",
       "    </tr>\n",
       "    <tr>\n",
       "      <th>112</th>\n",
       "      <td>1</td>\n",
       "      <td>315</td>\n",
       "      <td>1</td>\n",
       "      <td>38</td>\n",
       "      <td>10</td>\n",
       "      <td>21.0</td>\n",
       "      <td>25.30</td>\n",
       "      <td>0.04</td>\n",
       "      <td>8</td>\n",
       "      <td>5</td>\n",
       "      <td>...</td>\n",
       "      <td>1</td>\n",
       "      <td>0</td>\n",
       "      <td>1</td>\n",
       "      <td>0</td>\n",
       "      <td>1</td>\n",
       "      <td>0</td>\n",
       "      <td>8</td>\n",
       "      <td>0</td>\n",
       "      <td>0</td>\n",
       "      <td>8</td>\n",
       "    </tr>\n",
       "    <tr>\n",
       "      <th>113</th>\n",
       "      <td>2</td>\n",
       "      <td>315</td>\n",
       "      <td>1</td>\n",
       "      <td>38</td>\n",
       "      <td>8</td>\n",
       "      <td>62.3</td>\n",
       "      <td>6.79</td>\n",
       "      <td>8.96</td>\n",
       "      <td>3</td>\n",
       "      <td>0</td>\n",
       "      <td>...</td>\n",
       "      <td>1</td>\n",
       "      <td>0</td>\n",
       "      <td>1</td>\n",
       "      <td>0</td>\n",
       "      <td>1</td>\n",
       "      <td>0</td>\n",
       "      <td>3</td>\n",
       "      <td>0</td>\n",
       "      <td>0</td>\n",
       "      <td>3</td>\n",
       "    </tr>\n",
       "    <tr>\n",
       "      <th>114</th>\n",
       "      <td>3</td>\n",
       "      <td>315</td>\n",
       "      <td>1</td>\n",
       "      <td>38</td>\n",
       "      <td>10</td>\n",
       "      <td>29.9</td>\n",
       "      <td>20.50</td>\n",
       "      <td>0.00</td>\n",
       "      <td>3</td>\n",
       "      <td>0</td>\n",
       "      <td>...</td>\n",
       "      <td>0</td>\n",
       "      <td>0</td>\n",
       "      <td>1</td>\n",
       "      <td>0</td>\n",
       "      <td>1</td>\n",
       "      <td>0</td>\n",
       "      <td>3</td>\n",
       "      <td>0</td>\n",
       "      <td>0</td>\n",
       "      <td>3</td>\n",
       "    </tr>\n",
       "  </tbody>\n",
       "</table>\n",
       "<p>10 rows × 26 columns</p>\n",
       "</div>"
      ],
      "text/plain": [
       "     session  userid  gender  age  dose  time_lag  thc_%  cbd_%  before  \\\n",
       "105       25     278       1   33    10      28.3  18.00   0.00       4   \n",
       "106       26     278       1   33    10      21.4  17.50   0.00       5   \n",
       "107       27     278       1   33    10      22.3  18.00   0.00       4   \n",
       "108        1     283       1   27     4      35.9  19.90   0.04       6   \n",
       "109        1     286       1   48     5      47.6  17.50   0.00       3   \n",
       "110        1     295       0   56     4      26.8  15.00   5.00       4   \n",
       "111        2     295       0   56     4     124.4  15.00   5.00       4   \n",
       "112        1     315       1   38    10      21.0  25.30   0.04       8   \n",
       "113        2     315       1   38     8      62.3   6.79   8.96       3   \n",
       "114        3     315       1   38    10      29.9  20.50   0.00       3   \n",
       "\n",
       "     after  ...  has_cbd  dd_gender_vape  dd_gender_smoke  \\\n",
       "105      3  ...        0               1                0   \n",
       "106      3  ...        0               1                0   \n",
       "107      2  ...        0               1                0   \n",
       "108      4  ...        1               0                1   \n",
       "109      1  ...        0               1                0   \n",
       "110      4  ...        1               0                0   \n",
       "111      4  ...        1               0                0   \n",
       "112      5  ...        1               0                1   \n",
       "113      0  ...        1               0                1   \n",
       "114      0  ...        0               0                1   \n",
       "\n",
       "     dd_gender_symptom_a  dd_gender_symptom_d  dd_sym_a_before  \\\n",
       "105                    0                    1                0   \n",
       "106                    0                    1                0   \n",
       "107                    0                    1                0   \n",
       "108                    0                    1                0   \n",
       "109                    0                    1                0   \n",
       "110                    0                    0                0   \n",
       "111                    0                    0                0   \n",
       "112                    0                    1                0   \n",
       "113                    0                    1                0   \n",
       "114                    0                    1                0   \n",
       "\n",
       "     dd_sym_d_before  dd_sym_s_before  td_sym_a_gender_before  \\\n",
       "105                4                0                       0   \n",
       "106                5                0                       0   \n",
       "107                4                0                       0   \n",
       "108                6                0                       0   \n",
       "109                3                0                       0   \n",
       "110                4                0                       0   \n",
       "111                4                0                       0   \n",
       "112                8                0                       0   \n",
       "113                3                0                       0   \n",
       "114                3                0                       0   \n",
       "\n",
       "     td_sym_d_gender_before  \n",
       "105                       4  \n",
       "106                       5  \n",
       "107                       4  \n",
       "108                       6  \n",
       "109                       3  \n",
       "110                       0  \n",
       "111                       0  \n",
       "112                       8  \n",
       "113                       3  \n",
       "114                       3  \n",
       "\n",
       "[10 rows x 26 columns]"
      ]
     },
     "execution_count": 94,
     "metadata": {},
     "output_type": "execute_result"
    }
   ],
   "source": [
    "df.iloc[105:115,:]"
   ]
  },
  {
   "cell_type": "markdown",
   "metadata": {},
   "source": [
    "## Defining Model Running Function"
   ]
  },
  {
   "cell_type": "code",
   "execution_count": 106,
   "metadata": {},
   "outputs": [],
   "source": [
    "df_results = pd.DataFrame(columns=['model', 'train_Median', 'test_Median', 'time', 'run_notes'])\n",
    "\n",
    "def run_model(model, Train_Test_Tuple, results_dataframe, \n",
    "              run_notes = 'None', save = True, verbose = True):\n",
    "\n",
    "    X_train, X_test, y_train, y_test = Train_Test_Tuple\n",
    "    model      = model.fit(X_train, y_train)\n",
    "    pred_train = model.predict(X_train)\n",
    "    pred_test  = model.predict(X_test)\n",
    "    dict_model = {'model' : re.findall(r'^[^@]+\\(', str(model))[0].strip(\"(\"),\n",
    "    'time'         : datetime.fromtimestamp(time()).strftime('%m/%d/%Y, %H:%M:%S'),\n",
    "    'train_Median' : metrics.median_absolute_error(y_train, pred_train),\n",
    "    'test_Median'  : metrics.median_absolute_error(y_test, pred_test),\n",
    "    'run_notes'    : run_notes}\n",
    "    \n",
    "    if verbose:# Printing current results\n",
    "        print(dict_model['model'])\n",
    "        print('Train : ' + str(dict_model['train_Median']))\n",
    "        print('Test  : ' + str(dict_model['test_Median']))\n",
    "    \n",
    "    # Saving current results\n",
    "    results_dataframe = results_dataframe.append(dict_model, ignore_index=True)\n",
    "    if save == True:\n",
    "        results_dataframe.to_csv('./data/modeling_results_' \n",
    "                        + datetime.fromtimestamp(time()).strftime('%m_%d_%Y'), \n",
    "                        index = False)\n",
    "    \n",
    "    return results_dataframe"
   ]
  },
  {
   "cell_type": "markdown",
   "metadata": {},
   "source": [
    "# ML DF EDA"
   ]
  },
  {
   "cell_type": "code",
   "execution_count": 3,
   "metadata": {},
   "outputs": [
    {
     "name": "stdout",
     "output_type": "stream",
     "text": [
      "Number of users in study: 1062\n"
     ]
    }
   ],
   "source": [
    "print('Number of users in study:', len(df['userid'].value_counts())) # (Post data cleaning)"
   ]
  },
  {
   "cell_type": "code",
   "execution_count": 4,
   "metadata": {},
   "outputs": [
    {
     "data": {
      "image/png": "[encoded data removed]",
      "text/plain": [
       "<Figure size 432x288 with 1 Axes>"
      ]
     },
     "metadata": {
      "needs_background": "light"
     },
     "output_type": "display_data"
    }
   ],
   "source": [
    "sns.countplot(df['before']);"
   ]
  },
  {
   "cell_type": "code",
   "execution_count": 5,
   "metadata": {},
   "outputs": [
    {
     "data": {
      "image/png": "[encoded data removed]",
      "text/plain": [
       "<Figure size 432x288 with 1 Axes>"
      ]
     },
     "metadata": {
      "needs_background": "light"
     },
     "output_type": "display_data"
    }
   ],
   "source": [
    "sns.countplot(df['after']);"
   ]
  },
  {
   "cell_type": "code",
   "execution_count": 6,
   "metadata": {},
   "outputs": [
    {
     "data": {
      "image/png": "[encoded data removed]",
      "text/plain": [
       "<Figure size 432x288 with 1 Axes>"
      ]
     },
     "metadata": {
      "needs_background": "light"
     },
     "output_type": "display_data"
    }
   ],
   "source": [
    "sns.countplot(df['change']);"
   ]
  },
  {
   "cell_type": "code",
   "execution_count": 7,
   "metadata": {},
   "outputs": [
    {
     "data": {
      "image/png": "[encoded data removed]",
      "text/plain": [
       "<Figure size 1080x720 with 1 Axes>"
      ]
     },
     "metadata": {
      "needs_background": "light"
     },
     "output_type": "display_data"
    }
   ],
   "source": [
    "df_cor          = df.drop(['time_lag', 'dab_bubbler', 'dab_portable'],axis = 1).corr() \n",
    "# Dropped because nothing is signifigantly correlated to them\n",
    "list_half_inner = []\n",
    "list_half_outer = []\n",
    "\n",
    "# Creating a blank-ish DF with the dementions that match the correlation matrix.\n",
    "for i in range(df_cor.shape[0]):\n",
    "    list_half_inner.append(True)\n",
    "    list_half_outer.append(list_half_inner)\n",
    "mask_half = pd.DataFrame(list_half_outer, columns= df_cor.columns, index=df_cor.columns)\n",
    "\n",
    "# Turning it into a mask and cutting it in half.\n",
    "for num in range(mask_half.shape[1]):\n",
    "    mask_half.iloc[num,num:mask_half.shape[1]] = False\n",
    "\n",
    "# Manually dropping certain values because they don't tell us anything by being correlated.\n",
    "mask_half.loc['after','before'] = False\n",
    "mask_half.loc['change','before':'after'] = False \n",
    "\n",
    "mask_half.iloc[df_cor.shape[0] - 1,df_cor.shape[1] - 1] = True\n",
    "    \n",
    "# Mask for limiting which correlations are shown.\n",
    "mask_cor_limit = (df_cor > 0.1) | (df_cor < -0.1)\n",
    "plt.figure(figsize=(15,10))\n",
    "\n",
    "sns.heatmap(df_cor[mask_cor_limit][mask_half],\n",
    "            annot = True, cbar=False, \n",
    "            linewidths= .01, linecolor='black', cmap=sns.diverging_palette(0, 230, n=7, center='light'));"
   ]
  },
  {
   "cell_type": "markdown",
   "metadata": {},
   "source": [
    "---"
   ]
  },
  {
   "cell_type": "markdown",
   "metadata": {},
   "source": [
    "# Baseline Models\n",
    "\n",
    "The y variable will always be the 'after' column, thus we will define it one time here and won't have to re-define it later.\n",
    "We are also removing redundant features dummie variables along with the change \"feature\" because it's a calculated variable that involved the target variable."
   ]
  },
  {
   "cell_type": "code",
   "execution_count": 8,
   "metadata": {},
   "outputs": [],
   "source": [
    "y = df['after']\n",
    "series_symptom_stress = df['symptom_s']\n",
    "df.drop(['concentrate', 'dab_bubbler','dab_portable', 'symptom_s', 'change'], axis = 1, inplace = True)"
   ]
  },
  {
   "cell_type": "markdown",
   "metadata": {},
   "source": [
    "## Linear Regression\n",
    "We'll start with a simple linear regression model to establish a baseline for the model."
   ]
  },
  {
   "cell_type": "code",
   "execution_count": 108,
   "metadata": {},
   "outputs": [
    {
     "name": "stdout",
     "output_type": "stream",
     "text": [
      "Linear Regression with all features.\n",
      "\n",
      "LinearRegression\n",
      "Train : 1.1230771672532451\n",
      "Test  : 1.1516048442103257\n"
     ]
    }
   ],
   "source": [
    "X = df.drop('after', axis = 1)\n",
    "\n",
    "print('Linear Regression with all features.\\n')\n",
    "df_results = run_model(LinearRegression(), train_test_split(X, y, random_state = 13), df_results, \n",
    "                      run_notes = \"Linear Regression Baseline\")"
   ]
  },
  {
   "cell_type": "markdown",
   "metadata": {},
   "source": [
    "The following is a Linear Regression with, essentially just the \"before\" feature. (\"symptom_a\" is also included to keep X two dementional.)\n"
   ]
  },
  {
   "cell_type": "code",
   "execution_count": 109,
   "metadata": {},
   "outputs": [
    {
     "name": "stdout",
     "output_type": "stream",
     "text": [
      "LinearRegression\n",
      "Train : 1.2180226345718723\n",
      "Test  : 1.2180226345718723\n"
     ]
    }
   ],
   "source": [
    "X = df[['before', 'symptom_a']]\n",
    "\n",
    "X_train, X_test, y_train, y_test = train_test_split(X, y, random_state = 13)\n",
    "df_results = run_model(LinearRegression(), train_test_split(X, y, random_state = 13), df_results, \n",
    "                       run_notes = 'Only \"Before\" & \"symptom_a\" features.')"
   ]
  },
  {
   "cell_type": "markdown",
   "metadata": {},
   "source": [
    "As far as linear regression is concerned, the most important value in our data is how somebody was feeling before attempting to medicate with cannabis.  This variable is so important that there is little change when nearly all other variables are removed.  This is a result of the fact that the before variable is strongly correlated to the target variable, while all other variables are compairitively weakly correlated the target variable."
   ]
  },
  {
   "cell_type": "markdown",
   "metadata": {},
   "source": [
    "## Random Forest\n",
    "\n",
    "Out of the models I tried the one with the best consistent results was the Random Forrest Regressor.  I've also kept Linear Regression around so as to keep a consistent baseline."
   ]
  },
  {
   "cell_type": "code",
   "execution_count": 111,
   "metadata": {
    "scrolled": true
   },
   "outputs": [
    {
     "name": "stdout",
     "output_type": "stream",
     "text": [
      "RandomForestRegressor\n",
      "Train : 0.30000000000000004\n",
      "Test  : 0.9\n"
     ]
    }
   ],
   "source": [
    "X = df.drop('after', axis = 1) # Redefining the X variable for our full feature list.\n",
    "\n",
    "df_results = run_model(RandomForestRegressor(), train_test_split(X, y, random_state = 13), df_results,\n",
    "                      run_notes = \"Randome Forest Baseline\")"
   ]
  },
  {
   "cell_type": "markdown",
   "metadata": {},
   "source": [
    "As Random Forrest gives the best test RMSE score, I'm going to be gridsearching on that.\n",
    "The other benefit of going with Random Forrest is that I hope to one day digure out a consistent way to pull the actual diagram of the trees.  As such, in the future, I'll be able to get insights from the model where as going forward with the Gradient Boosting Regressor (or even using an XG Boost) would potentially result in a more accurate model, but the expected improvement would be less valuable to me than the potential future insights."
   ]
  },
  {
   "cell_type": "code",
   "execution_count": 12,
   "metadata": {
    "scrolled": true
   },
   "outputs": [
    {
     "data": {
      "text/html": [
       "<div>\n",
       "<style scoped>\n",
       "    .dataframe tbody tr th:only-of-type {\n",
       "        vertical-align: middle;\n",
       "    }\n",
       "\n",
       "    .dataframe tbody tr th {\n",
       "        vertical-align: top;\n",
       "    }\n",
       "\n",
       "    .dataframe thead th {\n",
       "        text-align: right;\n",
       "    }\n",
       "</style>\n",
       "<table border=\"1\" class=\"dataframe\">\n",
       "  <thead>\n",
       "    <tr style=\"text-align: right;\">\n",
       "      <th></th>\n",
       "      <th>model</th>\n",
       "      <th>train_Median</th>\n",
       "      <th>test_Median</th>\n",
       "      <th>time</th>\n",
       "      <th>run_notes</th>\n",
       "    </tr>\n",
       "  </thead>\n",
       "  <tbody>\n",
       "    <tr>\n",
       "      <th>2</th>\n",
       "      <td>RandomForestRegressor</td>\n",
       "      <td>0.300000</td>\n",
       "      <td>0.900000</td>\n",
       "      <td>08/22/2019, 14:17:39</td>\n",
       "      <td>None</td>\n",
       "    </tr>\n",
       "    <tr>\n",
       "      <th>0</th>\n",
       "      <td>LinearRegression</td>\n",
       "      <td>1.127900</td>\n",
       "      <td>1.164952</td>\n",
       "      <td>08/22/2019, 14:17:38</td>\n",
       "      <td>None</td>\n",
       "    </tr>\n",
       "    <tr>\n",
       "      <th>1</th>\n",
       "      <td>LinearRegression</td>\n",
       "      <td>1.218023</td>\n",
       "      <td>1.218023</td>\n",
       "      <td>08/22/2019, 14:17:38</td>\n",
       "      <td>Only \"Before\" &amp; \"symptom_a\" features.</td>\n",
       "    </tr>\n",
       "  </tbody>\n",
       "</table>\n",
       "</div>"
      ],
      "text/plain": [
       "                   model  train_Median  test_Median                  time  \\\n",
       "2  RandomForestRegressor      0.300000     0.900000  08/22/2019, 14:17:39   \n",
       "0       LinearRegression      1.127900     1.164952  08/22/2019, 14:17:38   \n",
       "1       LinearRegression      1.218023     1.218023  08/22/2019, 14:17:38   \n",
       "\n",
       "                               run_notes  \n",
       "2                                   None  \n",
       "0                                   None  \n",
       "1  Only \"Before\" & \"symptom_a\" features.  "
      ]
     },
     "execution_count": 12,
     "metadata": {},
     "output_type": "execute_result"
    }
   ],
   "source": [
    "df_results.sort_values('test_Median').head(5)"
   ]
  },
  {
   "cell_type": "markdown",
   "metadata": {},
   "source": [
    "---"
   ]
  },
  {
   "cell_type": "markdown",
   "metadata": {},
   "source": [
    "# Feature Engineering"
   ]
  },
  {
   "cell_type": "markdown",
   "metadata": {},
   "source": [
    "## Engineering Mathimatical Features"
   ]
  },
  {
   "cell_type": "code",
   "execution_count": 13,
   "metadata": {},
   "outputs": [],
   "source": [
    "# Feature representing total canabinoids in a product\n",
    "df['total_%'] = (df['thc_%'] + df['cbd_%'])\n",
    "\n",
    "# Feature representing a scale of having more THC than CBD or vice verca.  \n",
    "# Not on a scale for human interpretation.\n",
    "df['strain_ratio'] = (df['thc_%'] - df['cbd_%'])/(df['thc_%'] + df['cbd_%'])"
   ]
  },
  {
   "cell_type": "markdown",
   "metadata": {},
   "source": [
    "## Gridsearching Time Bins"
   ]
  },
  {
   "cell_type": "markdown",
   "metadata": {},
   "source": [
    "While I originally felt that there was some features which could be pulled from the time_lag feature if binned. I then decided to start with a guess of which splits would be the most useful and from there make a gridsearch-like code block with the correlation to the target variable to find what splits would actually have the most liklihood of being useful to the model.\n",
    "I used a mock up of a gridsearch to find the most correlated combination of 3 different splits in the eature to find the one which would be most useful.\n",
    "The next cell is the gridsearching code I used on the last set of numbers I tested.  After that is code for assigning it to the df and visualizing where the lines are in the actual data."
   ]
  },
  {
   "cell_type": "code",
   "execution_count": 9,
   "metadata": {},
   "outputs": [
    {
     "data": {
      "text/html": [
       "<div>\n",
       "<style scoped>\n",
       "    .dataframe tbody tr th:only-of-type {\n",
       "        vertical-align: middle;\n",
       "    }\n",
       "\n",
       "    .dataframe tbody tr th {\n",
       "        vertical-align: top;\n",
       "    }\n",
       "\n",
       "    .dataframe thead th {\n",
       "        text-align: right;\n",
       "    }\n",
       "</style>\n",
       "<table border=\"1\" class=\"dataframe\">\n",
       "  <thead>\n",
       "    <tr style=\"text-align: right;\">\n",
       "      <th></th>\n",
       "      <th>corr</th>\n",
       "      <th>low</th>\n",
       "      <th>mid</th>\n",
       "      <th>high</th>\n",
       "    </tr>\n",
       "  </thead>\n",
       "  <tbody>\n",
       "    <tr>\n",
       "      <th>20</th>\n",
       "      <td>0.069518</td>\n",
       "      <td>14.5</td>\n",
       "      <td>0.0</td>\n",
       "      <td>105</td>\n",
       "    </tr>\n",
       "    <tr>\n",
       "      <th>11</th>\n",
       "      <td>0.069165</td>\n",
       "      <td>14.0</td>\n",
       "      <td>0.0</td>\n",
       "      <td>105</td>\n",
       "    </tr>\n",
       "    <tr>\n",
       "      <th>26</th>\n",
       "      <td>0.068723</td>\n",
       "      <td>14.5</td>\n",
       "      <td>19.5</td>\n",
       "      <td>105</td>\n",
       "    </tr>\n",
       "    <tr>\n",
       "      <th>23</th>\n",
       "      <td>0.068637</td>\n",
       "      <td>14.5</td>\n",
       "      <td>19.0</td>\n",
       "      <td>105</td>\n",
       "    </tr>\n",
       "    <tr>\n",
       "      <th>29</th>\n",
       "      <td>0.068630</td>\n",
       "      <td>15.0</td>\n",
       "      <td>0.0</td>\n",
       "      <td>105</td>\n",
       "    </tr>\n",
       "    <tr>\n",
       "      <th>18</th>\n",
       "      <td>0.068618</td>\n",
       "      <td>14.5</td>\n",
       "      <td>0.0</td>\n",
       "      <td>0</td>\n",
       "    </tr>\n",
       "    <tr>\n",
       "      <th>17</th>\n",
       "      <td>0.068584</td>\n",
       "      <td>14.0</td>\n",
       "      <td>19.5</td>\n",
       "      <td>105</td>\n",
       "    </tr>\n",
       "    <tr>\n",
       "      <th>14</th>\n",
       "      <td>0.068497</td>\n",
       "      <td>14.0</td>\n",
       "      <td>19.0</td>\n",
       "      <td>105</td>\n",
       "    </tr>\n",
       "    <tr>\n",
       "      <th>19</th>\n",
       "      <td>0.068494</td>\n",
       "      <td>14.5</td>\n",
       "      <td>0.0</td>\n",
       "      <td>100</td>\n",
       "    </tr>\n",
       "    <tr>\n",
       "      <th>9</th>\n",
       "      <td>0.068238</td>\n",
       "      <td>14.0</td>\n",
       "      <td>0.0</td>\n",
       "      <td>0</td>\n",
       "    </tr>\n",
       "  </tbody>\n",
       "</table>\n",
       "</div>"
      ],
      "text/plain": [
       "        corr   low   mid  high\n",
       "20  0.069518  14.5   0.0   105\n",
       "11  0.069165  14.0   0.0   105\n",
       "26  0.068723  14.5  19.5   105\n",
       "23  0.068637  14.5  19.0   105\n",
       "29  0.068630  15.0   0.0   105\n",
       "18  0.068618  14.5   0.0     0\n",
       "17  0.068584  14.0  19.5   105\n",
       "14  0.068497  14.0  19.0   105\n",
       "19  0.068494  14.5   0.0   100\n",
       "9   0.068238  14.0   0.0     0"
      ]
     },
     "execution_count": 9,
     "metadata": {},
     "output_type": "execute_result"
    }
   ],
   "source": [
    "list_o_dicts = []\n",
    "for low in [0, 14, 14.5, 15]:\n",
    "    for mid in [0, 19, 19.5]:\n",
    "        for high in [0, 100, 105]:\n",
    "            def sorting(row):    \n",
    "                if row['time_lag'] < low:\n",
    "                    result = .1\n",
    "                elif row['time_lag'] < mid:\n",
    "                    result = .2\n",
    "                elif row['time_lag'] < high:\n",
    "                    result = .3\n",
    "                else: \n",
    "                    result = .4\n",
    "                return result\n",
    "            df['binned_time'] = df.apply(sorting, axis=1)\n",
    "            list_o_dicts.append({\n",
    "                'low'  : low,\n",
    "                'mid'  : mid,\n",
    "                'high' : high,\n",
    "                'corr' : np.abs(df.corrwith(df['after'])['binned_time'])\n",
    "            })\n",
    "df_grid = pd.DataFrame(list_o_dicts, columns=['corr','low','mid','high'])\n",
    "df_grid = df_grid.sort_values('corr', ascending = False).head(10)\n",
    "df_grid"
   ]
  },
  {
   "cell_type": "code",
   "execution_count": 10,
   "metadata": {},
   "outputs": [
    {
     "data": {
      "image/png": "[encoded data removed]",
      "text/plain": [
       "<Figure size 432x288 with 1 Axes>"
      ]
     },
     "metadata": {
      "needs_background": "light"
     },
     "output_type": "display_data"
    }
   ],
   "source": [
    "best_low, best_mid, best_high = df_grid.iloc[0,1], df_grid.iloc[0,2], df_grid.iloc[0,3]\n",
    "\n",
    "def sorting(row):    \n",
    "    if row['time_lag'] < best_low:\n",
    "        result = .1\n",
    "    elif row['time_lag'] < best_mid:\n",
    "        result = .2\n",
    "    elif row['time_lag'] < best_high:\n",
    "        result = .3\n",
    "    else: \n",
    "        result = .4\n",
    "    return result\n",
    "df['binned_time'] = df.apply(sorting, axis=1)\n",
    "plt.ylabel('Count')\n",
    "plt.xlabel('Time Lag')\n",
    "plt.axvline(x = best_low)\n",
    "plt.axvline(x = best_mid)\n",
    "plt.axvline(x = best_high)\n",
    "plt.hist(df['time_lag'], bins = 100, color='red');"
   ]
  },
  {
   "cell_type": "markdown",
   "metadata": {},
   "source": [
    "## Gridsearching Cannabis percentage classes\n",
    "While looking at the scatter plot of thc % and cbd % I noticed roughly three clusters which could be seperated by two lines.  While my original idea was to seperate those three clusters, I used a similar gridsearching technique as the one above and found the following splits to be more correlative.  The immediatly next cell shows the splits I originally had in mind.  Following that is the last gridsearch I ran and finally the splits I ended up with."
   ]
  },
  {
   "cell_type": "code",
   "execution_count": 11,
   "metadata": {},
   "outputs": [
    {
     "data": {
      "image/png": "[encoded data removed]",
      "text/plain": [
       "<Figure size 432x288 with 1 Axes>"
      ]
     },
     "metadata": {
      "needs_background": "light"
     },
     "output_type": "display_data"
    }
   ],
   "source": [
    "axes = plt.gca()\n",
    "axes.set_xlim([-1,35])\n",
    "axes.set_ylim([-1,35])\n",
    "axes.set_title('THC & CBD Percentages')\n",
    "sns.scatterplot(df['thc_%'],df['cbd_%'], alpha=0.2);\n",
    "line = np.linspace(-500,500)\n",
    "plt.plot(line, 5 * line, '-r');\n",
    "plt.plot(line, 0.4 * line, '-r');"
   ]
  },
  {
   "cell_type": "code",
   "execution_count": 12,
   "metadata": {},
   "outputs": [
    {
     "data": {
      "text/html": [
       "<div>\n",
       "<style scoped>\n",
       "    .dataframe tbody tr th:only-of-type {\n",
       "        vertical-align: middle;\n",
       "    }\n",
       "\n",
       "    .dataframe tbody tr th {\n",
       "        vertical-align: top;\n",
       "    }\n",
       "\n",
       "    .dataframe thead th {\n",
       "        text-align: right;\n",
       "    }\n",
       "</style>\n",
       "<table border=\"1\" class=\"dataframe\">\n",
       "  <thead>\n",
       "    <tr style=\"text-align: right;\">\n",
       "      <th></th>\n",
       "      <th>corr</th>\n",
       "      <th>slope_1</th>\n",
       "      <th>slope_2</th>\n",
       "    </tr>\n",
       "  </thead>\n",
       "  <tbody>\n",
       "    <tr>\n",
       "      <th>5</th>\n",
       "      <td>0.055640</td>\n",
       "      <td>0.050</td>\n",
       "      <td>0.80</td>\n",
       "    </tr>\n",
       "    <tr>\n",
       "      <th>6</th>\n",
       "      <td>0.055640</td>\n",
       "      <td>0.050</td>\n",
       "      <td>0.85</td>\n",
       "    </tr>\n",
       "    <tr>\n",
       "      <th>7</th>\n",
       "      <td>0.055418</td>\n",
       "      <td>0.050</td>\n",
       "      <td>0.90</td>\n",
       "    </tr>\n",
       "    <tr>\n",
       "      <th>4</th>\n",
       "      <td>0.053869</td>\n",
       "      <td>0.050</td>\n",
       "      <td>0.70</td>\n",
       "    </tr>\n",
       "    <tr>\n",
       "      <th>1</th>\n",
       "      <td>0.047656</td>\n",
       "      <td>0.025</td>\n",
       "      <td>0.80</td>\n",
       "    </tr>\n",
       "    <tr>\n",
       "      <th>2</th>\n",
       "      <td>0.047656</td>\n",
       "      <td>0.025</td>\n",
       "      <td>0.85</td>\n",
       "    </tr>\n",
       "    <tr>\n",
       "      <th>3</th>\n",
       "      <td>0.047503</td>\n",
       "      <td>0.025</td>\n",
       "      <td>0.90</td>\n",
       "    </tr>\n",
       "    <tr>\n",
       "      <th>0</th>\n",
       "      <td>0.045806</td>\n",
       "      <td>0.025</td>\n",
       "      <td>0.70</td>\n",
       "    </tr>\n",
       "    <tr>\n",
       "      <th>9</th>\n",
       "      <td>0.033004</td>\n",
       "      <td>0.100</td>\n",
       "      <td>0.80</td>\n",
       "    </tr>\n",
       "    <tr>\n",
       "      <th>10</th>\n",
       "      <td>0.033004</td>\n",
       "      <td>0.100</td>\n",
       "      <td>0.85</td>\n",
       "    </tr>\n",
       "  </tbody>\n",
       "</table>\n",
       "</div>"
      ],
      "text/plain": [
       "        corr  slope_1  slope_2\n",
       "5   0.055640    0.050     0.80\n",
       "6   0.055640    0.050     0.85\n",
       "7   0.055418    0.050     0.90\n",
       "4   0.053869    0.050     0.70\n",
       "1   0.047656    0.025     0.80\n",
       "2   0.047656    0.025     0.85\n",
       "3   0.047503    0.025     0.90\n",
       "0   0.045806    0.025     0.70\n",
       "9   0.033004    0.100     0.80\n",
       "10  0.033004    0.100     0.85"
      ]
     },
     "execution_count": 12,
     "metadata": {},
     "output_type": "execute_result"
    }
   ],
   "source": [
    "list_o_dicts = []\n",
    "for slope_1 in [0.025, 0.05, 0.1]:\n",
    "    for slope_2 in [0.7, 0.8, 0.85, 0.9]:\n",
    "        def sorting(row):    \n",
    "            if row['cbd_%'] < (row['thc_%'] * slope_1):\n",
    "                result = 1\n",
    "            elif row['cbd_%'] > (row['thc_%'] * slope_2):\n",
    "                result = .5\n",
    "            else: \n",
    "                result = 0\n",
    "            return result\n",
    "        df['strain_class'] = df.apply(sorting, axis=1)\n",
    "        list_o_dicts.append({\n",
    "            'slope_1'  : slope_1,\n",
    "            'slope_2'  : slope_2,\n",
    "            'corr' : np.abs(df.corrwith(df['after'])['strain_class'])\n",
    "        })\n",
    "df_grid = pd.DataFrame(list_o_dicts)\n",
    "df_grid = df_grid.sort_values('corr', ascending= False).head(10)\n",
    "df_grid"
   ]
  },
  {
   "cell_type": "code",
   "execution_count": 13,
   "metadata": {},
   "outputs": [
    {
     "data": {
      "image/png": "[encoded data removed]",
      "text/plain": [
       "<Figure size 432x288 with 1 Axes>"
      ]
     },
     "metadata": {
      "needs_background": "light"
     },
     "output_type": "display_data"
    }
   ],
   "source": [
    "best_slope_1, best_slope_2 = df_grid.iloc[0,1], df_grid.iloc[0,2]\n",
    "\n",
    "\n",
    "def sorting(row):    \n",
    "    if row['cbd_%'] < (row['thc_%'] * best_slope_1):\n",
    "        result = 1\n",
    "    elif row['cbd_%'] > (row['thc_%'] * best_slope_2):\n",
    "        result = .5\n",
    "    else: \n",
    "        result = 0\n",
    "    return result\n",
    "df['strain_class'] = df.apply(sorting, axis=1)\n",
    "\n",
    "axes = plt.gca()\n",
    "axes.set_xlim([-1,35])\n",
    "axes.set_ylim([-1,35])\n",
    "axes.set_title('THC & CBD Percentages')\n",
    "sns.scatterplot(df['thc_%'],df['cbd_%'], alpha=0.2);\n",
    "line = np.linspace(-500,500)\n",
    "plt.plot(line, best_slope_1 * line, '-r');\n",
    "plt.plot(line, best_slope_2 * line, '-r');"
   ]
  },
  {
   "cell_type": "markdown",
   "metadata": {},
   "source": [
    "Consistently, the most correlated lies were when both were set to 0, thus seperating the data into those which had cbd and those which did not.  Thus, I excluded those as possibilities and instead made a seperate feature for just representing if cbd was present in the data or not.  This should allow the model to have that many more options of how to split the data."
   ]
  },
  {
   "cell_type": "code",
   "execution_count": 14,
   "metadata": {},
   "outputs": [],
   "source": [
    "def sort(x):\n",
    "    if x == 0:\n",
    "        result = 0\n",
    "    else:\n",
    "        result = 1\n",
    "    return result\n",
    "df['has_cbd'] = df['cbd_%'].map(lambda x: sort(x))"
   ]
  },
  {
   "cell_type": "markdown",
   "metadata": {},
   "source": [
    "Gridsearching Age Bins was attempted but resulted very very little correlation and as such, I did not follow that path."
   ]
  },
  {
   "cell_type": "markdown",
   "metadata": {},
   "source": [
    "While these were useful things to try, looking back I realize that the problem with attempting to make features fromt his while using a random forrest is that the model could easily make these splits of it's own accord.  \n",
    "In retrosepct I believe that the best features to engineer would be those that would provide a different scale that would then be more likely to be correlative to the target variable."
   ]
  },
  {
   "cell_type": "markdown",
   "metadata": {},
   "source": [
    "## Combining Dummies"
   ]
  },
  {
   "cell_type": "code",
   "execution_count": 15,
   "metadata": {},
   "outputs": [],
   "source": [
    "# dd stands for \"Double Dummies\"\n",
    "df['dd_gender_vape']  = df['gender'] * df['vape']\n",
    "df['dd_gender_smoke'] = df['gender'] * df['smoke']\n",
    "df['dd_gender_symptom_a'] = df['gender'] * df['symptom_a']\n",
    "df['dd_gender_symptom_d'] = df['gender'] * df['symptom_d']\n",
    "#df['dd_sym_a_vape']  = df['symptom_a'] * df['vape'] \n",
    "#df['dd_sym_d_vape']  = df['symptom_d'] * df['vape'] \n",
    "#df['dd_sym_a_smoke'] = df['symptom_a'] * df['smoke']\n",
    "#df['dd_sym_d_smoke'] = df['symptom_d'] * df['smoke']\n",
    "df['dd_sym_a_before'] = df['symptom_a'] * df['before']\n",
    "df['dd_sym_d_before'] = df['symptom_d'] * df['before']\n",
    "df['dd_sym_s_before'] = series_symptom_stress * df['before'] \n",
    "# Stress Boolian returned because it's more info.\n",
    "\n",
    "# td stands for \"Triple Dummies\"\n",
    "df['td_sym_a_gender_before'] = df['gender'] * df['dd_sym_a_before']\n",
    "df['td_sym_d_gender_before'] = df['gender'] * df['dd_sym_d_before']\n",
    "df['td_sym_s_gender_before'] = df['gender'] * df['dd_sym_s_before']"
   ]
  },
  {
   "cell_type": "markdown",
   "metadata": {},
   "source": [
    "After the feature pruning section I decided to drop any double features that didn't involve the Before or Gender features."
   ]
  },
  {
   "cell_type": "markdown",
   "metadata": {},
   "source": [
    "## Modeling (Post Feature Creation & with Standardization)"
   ]
  },
  {
   "cell_type": "code",
   "execution_count": 116,
   "metadata": {},
   "outputs": [
    {
     "name": "stdout",
     "output_type": "stream",
     "text": [
      "No Scaling\n",
      "RandomForestRegressor\n",
      "Train : 0.30000000000000004\n",
      "Test  : 0.9\n",
      "\n",
      "Normalizer\n",
      "RandomForestRegressor\n",
      "Train : 0.3\n",
      "Test  : 0.8999999999999999\n",
      "\n",
      "MinMaxScaler\n",
      "RandomForestRegressor\n",
      "Train : 0.30000000000000004\n",
      "Test  : 0.8999999999999999\n",
      "\n",
      "StandardScaler\n",
      "RandomForestRegressor\n",
      "Train : 0.30000000000000004\n",
      "Test  : 0.8999999999999999\n"
     ]
    }
   ],
   "source": [
    "X = df.drop('after', axis = 1)\n",
    "print(\"No Scaling\")\n",
    "df_results = run_model(RandomForestRegressor(), train_test_split(X, y, random_state = 13), df_results, \n",
    "                       run_notes= \"Run with all of the engineered features\")\n",
    "\n",
    "X = Normalizer().fit_transform(df.drop('after', axis = 1))\n",
    "print(\"\\nNormalizer\")\n",
    "df_results = run_model(RandomForestRegressor(), train_test_split(X, y, random_state = 13), df_results, \n",
    "                       run_notes= \"Run with all engineered features and normalized.\")\n",
    "\n",
    "X = MinMaxScaler().fit_transform(df.drop('after', axis = 1))\n",
    "print(\"\\nMinMaxScaler\")\n",
    "df_results = run_model(RandomForestRegressor(), train_test_split(X, y, random_state = 13), df_results, \n",
    "                       run_notes= \"Run with all engineered features and MinMaxed.\")\n",
    "\n",
    "X = StandardScaler().fit_transform(df.drop('after', axis = 1))\n",
    "print(\"\\nStandardScaler\")\n",
    "df_results = run_model(RandomForestRegressor(), train_test_split(X, y, random_state = 13), df_results, \n",
    "                       run_notes= \"Run with all engineered features and Standardized.\")"
   ]
  },
  {
   "cell_type": "markdown",
   "metadata": {},
   "source": [
    "Due to the fact that the standardizers tend to do very little for the model when measuring the median error, except for adding many decimal points to the results, I'll be skipping them.  (It should be noted that the Normalizer will ocasionlly perform better, but it's inconsistent enough that I've decided to just leave it out as well.  It was also the best standardization method for RMSE.)"
   ]
  },
  {
   "cell_type": "code",
   "execution_count": 118,
   "metadata": {},
   "outputs": [
    {
     "data": {
      "text/html": [
       "<div>\n",
       "<style scoped>\n",
       "    .dataframe tbody tr th:only-of-type {\n",
       "        vertical-align: middle;\n",
       "    }\n",
       "\n",
       "    .dataframe tbody tr th {\n",
       "        vertical-align: top;\n",
       "    }\n",
       "\n",
       "    .dataframe thead th {\n",
       "        text-align: right;\n",
       "    }\n",
       "</style>\n",
       "<table border=\"1\" class=\"dataframe\">\n",
       "  <thead>\n",
       "    <tr style=\"text-align: right;\">\n",
       "      <th></th>\n",
       "      <th>model</th>\n",
       "      <th>train_Median</th>\n",
       "      <th>test_Median</th>\n",
       "      <th>time</th>\n",
       "      <th>run_notes</th>\n",
       "    </tr>\n",
       "  </thead>\n",
       "  <tbody>\n",
       "    <tr>\n",
       "      <th>12</th>\n",
       "      <td>RandomForestRegressor</td>\n",
       "      <td>0.3</td>\n",
       "      <td>0.9</td>\n",
       "      <td>08/25/2019, 19:13:59</td>\n",
       "      <td>Run with all engineered features and Standardi...</td>\n",
       "    </tr>\n",
       "    <tr>\n",
       "      <th>22</th>\n",
       "      <td>RandomForestRegressor</td>\n",
       "      <td>0.3</td>\n",
       "      <td>0.9</td>\n",
       "      <td>08/25/2019, 19:14:53</td>\n",
       "      <td>Run with all engineered features and normalized.</td>\n",
       "    </tr>\n",
       "    <tr>\n",
       "      <th>20</th>\n",
       "      <td>RandomForestRegressor</td>\n",
       "      <td>0.3</td>\n",
       "      <td>0.9</td>\n",
       "      <td>08/25/2019, 19:14:42</td>\n",
       "      <td>Run with all engineered features and Standardi...</td>\n",
       "    </tr>\n",
       "    <tr>\n",
       "      <th>18</th>\n",
       "      <td>RandomForestRegressor</td>\n",
       "      <td>0.3</td>\n",
       "      <td>0.9</td>\n",
       "      <td>08/25/2019, 19:14:41</td>\n",
       "      <td>Run with all engineered features and normalized.</td>\n",
       "    </tr>\n",
       "    <tr>\n",
       "      <th>17</th>\n",
       "      <td>RandomForestRegressor</td>\n",
       "      <td>0.3</td>\n",
       "      <td>0.9</td>\n",
       "      <td>08/25/2019, 19:14:40</td>\n",
       "      <td>Run with all the engineered features</td>\n",
       "    </tr>\n",
       "    <tr>\n",
       "      <th>16</th>\n",
       "      <td>RandomForestRegressor</td>\n",
       "      <td>0.3</td>\n",
       "      <td>0.9</td>\n",
       "      <td>08/25/2019, 19:14:33</td>\n",
       "      <td>Run with all engineered features and Standardi...</td>\n",
       "    </tr>\n",
       "    <tr>\n",
       "      <th>15</th>\n",
       "      <td>RandomForestRegressor</td>\n",
       "      <td>0.3</td>\n",
       "      <td>0.9</td>\n",
       "      <td>08/25/2019, 19:14:32</td>\n",
       "      <td>Run with all engineered features and MinMaxed.</td>\n",
       "    </tr>\n",
       "  </tbody>\n",
       "</table>\n",
       "</div>"
      ],
      "text/plain": [
       "                    model  train_Median  test_Median                  time  \\\n",
       "12  RandomForestRegressor           0.3          0.9  08/25/2019, 19:13:59   \n",
       "22  RandomForestRegressor           0.3          0.9  08/25/2019, 19:14:53   \n",
       "20  RandomForestRegressor           0.3          0.9  08/25/2019, 19:14:42   \n",
       "18  RandomForestRegressor           0.3          0.9  08/25/2019, 19:14:41   \n",
       "17  RandomForestRegressor           0.3          0.9  08/25/2019, 19:14:40   \n",
       "16  RandomForestRegressor           0.3          0.9  08/25/2019, 19:14:33   \n",
       "15  RandomForestRegressor           0.3          0.9  08/25/2019, 19:14:32   \n",
       "\n",
       "                                            run_notes  \n",
       "12  Run with all engineered features and Standardi...  \n",
       "22   Run with all engineered features and normalized.  \n",
       "20  Run with all engineered features and Standardi...  \n",
       "18   Run with all engineered features and normalized.  \n",
       "17               Run with all the engineered features  \n",
       "16  Run with all engineered features and Standardi...  \n",
       "15     Run with all engineered features and MinMaxed.  "
      ]
     },
     "execution_count": 118,
     "metadata": {},
     "output_type": "execute_result"
    }
   ],
   "source": [
    "df_results.sort_values('test_Median').head(7)"
   ]
  },
  {
   "cell_type": "markdown",
   "metadata": {},
   "source": [
    "---"
   ]
  },
  {
   "cell_type": "markdown",
   "metadata": {},
   "source": [
    "# Feature Importance (PCA, Correlation and More!)"
   ]
  },
  {
   "cell_type": "code",
   "execution_count": 26,
   "metadata": {},
   "outputs": [
    {
     "data": {
      "text/plain": [
       "after                     1.000000\n",
       "before                    0.420261\n",
       "td_sym_d_gender_before    0.263370\n",
       "dd_sym_d_before           0.232150\n",
       "gender                    0.226082\n",
       "dd_gender_vape            0.205179\n",
       "dd_gender_symptom_d       0.192911\n",
       "td_sym_a_gender_before    0.137038\n",
       "symptom_d                 0.126244\n",
       "age                       0.080671\n",
       "dd_gender_symptom_a       0.075977\n",
       "dd_gender_smoke           0.073319\n",
       "vape                      0.072438\n",
       "userid                    0.070336\n",
       "binned_time               0.069518\n",
       "symptom_a                 0.061898\n",
       "has_cbd                   0.055763\n",
       "strain_class              0.055640\n",
       "smoke                     0.055589\n",
       "dd_sym_a_before           0.040280\n",
       "dose                      0.027489\n",
       "session                   0.025282\n",
       "dd_sym_s_before           0.024060\n",
       "thc_%                     0.011204\n",
       "time_lag                  0.010714\n",
       "cbd_%                     0.004369\n",
       "dtype: float64"
      ]
     },
     "execution_count": 26,
     "metadata": {},
     "output_type": "execute_result"
    }
   ],
   "source": [
    "abs(df.corrwith(df['after'])).sort_values(ascending = False)"
   ]
  },
  {
   "cell_type": "code",
   "execution_count": 27,
   "metadata": {},
   "outputs": [
    {
     "data": {
      "text/html": [
       "<div>\n",
       "<style scoped>\n",
       "    .dataframe tbody tr th:only-of-type {\n",
       "        vertical-align: middle;\n",
       "    }\n",
       "\n",
       "    .dataframe tbody tr th {\n",
       "        vertical-align: top;\n",
       "    }\n",
       "\n",
       "    .dataframe thead th {\n",
       "        text-align: right;\n",
       "    }\n",
       "</style>\n",
       "<table border=\"1\" class=\"dataframe\">\n",
       "  <thead>\n",
       "    <tr style=\"text-align: right;\">\n",
       "      <th></th>\n",
       "      <th>importance</th>\n",
       "    </tr>\n",
       "  </thead>\n",
       "  <tbody>\n",
       "    <tr>\n",
       "      <th>before</th>\n",
       "      <td>0.134386</td>\n",
       "    </tr>\n",
       "    <tr>\n",
       "      <th>session</th>\n",
       "      <td>0.075143</td>\n",
       "    </tr>\n",
       "    <tr>\n",
       "      <th>strain_class</th>\n",
       "      <td>0.071373</td>\n",
       "    </tr>\n",
       "    <tr>\n",
       "      <th>age</th>\n",
       "      <td>0.070339</td>\n",
       "    </tr>\n",
       "    <tr>\n",
       "      <th>thc_%</th>\n",
       "      <td>0.060946</td>\n",
       "    </tr>\n",
       "    <tr>\n",
       "      <th>dose</th>\n",
       "      <td>0.056948</td>\n",
       "    </tr>\n",
       "    <tr>\n",
       "      <th>has_cbd</th>\n",
       "      <td>0.051348</td>\n",
       "    </tr>\n",
       "    <tr>\n",
       "      <th>userid</th>\n",
       "      <td>0.050451</td>\n",
       "    </tr>\n",
       "    <tr>\n",
       "      <th>gender</th>\n",
       "      <td>0.047739</td>\n",
       "    </tr>\n",
       "    <tr>\n",
       "      <th>binned_time</th>\n",
       "      <td>0.045591</td>\n",
       "    </tr>\n",
       "    <tr>\n",
       "      <th>time_lag</th>\n",
       "      <td>0.042286</td>\n",
       "    </tr>\n",
       "    <tr>\n",
       "      <th>dd_gender_vape</th>\n",
       "      <td>0.040837</td>\n",
       "    </tr>\n",
       "    <tr>\n",
       "      <th>td_sym_d_gender_before</th>\n",
       "      <td>0.036195</td>\n",
       "    </tr>\n",
       "    <tr>\n",
       "      <th>smoke</th>\n",
       "      <td>0.027863</td>\n",
       "    </tr>\n",
       "    <tr>\n",
       "      <th>cbd_%</th>\n",
       "      <td>0.026864</td>\n",
       "    </tr>\n",
       "    <tr>\n",
       "      <th>dd_gender_smoke</th>\n",
       "      <td>0.025049</td>\n",
       "    </tr>\n",
       "    <tr>\n",
       "      <th>dd_sym_d_before</th>\n",
       "      <td>0.022859</td>\n",
       "    </tr>\n",
       "    <tr>\n",
       "      <th>dd_sym_s_before</th>\n",
       "      <td>0.021124</td>\n",
       "    </tr>\n",
       "    <tr>\n",
       "      <th>td_sym_a_gender_before</th>\n",
       "      <td>0.020680</td>\n",
       "    </tr>\n",
       "    <tr>\n",
       "      <th>vape</th>\n",
       "      <td>0.018967</td>\n",
       "    </tr>\n",
       "    <tr>\n",
       "      <th>dd_sym_a_before</th>\n",
       "      <td>0.014912</td>\n",
       "    </tr>\n",
       "    <tr>\n",
       "      <th>symptom_a</th>\n",
       "      <td>0.011022</td>\n",
       "    </tr>\n",
       "    <tr>\n",
       "      <th>symptom_d</th>\n",
       "      <td>0.010577</td>\n",
       "    </tr>\n",
       "    <tr>\n",
       "      <th>dd_gender_symptom_d</th>\n",
       "      <td>0.008393</td>\n",
       "    </tr>\n",
       "    <tr>\n",
       "      <th>dd_gender_symptom_a</th>\n",
       "      <td>0.008107</td>\n",
       "    </tr>\n",
       "  </tbody>\n",
       "</table>\n",
       "</div>"
      ],
      "text/plain": [
       "                        importance\n",
       "before                    0.134386\n",
       "session                   0.075143\n",
       "strain_class              0.071373\n",
       "age                       0.070339\n",
       "thc_%                     0.060946\n",
       "dose                      0.056948\n",
       "has_cbd                   0.051348\n",
       "userid                    0.050451\n",
       "gender                    0.047739\n",
       "binned_time               0.045591\n",
       "time_lag                  0.042286\n",
       "dd_gender_vape            0.040837\n",
       "td_sym_d_gender_before    0.036195\n",
       "smoke                     0.027863\n",
       "cbd_%                     0.026864\n",
       "dd_gender_smoke           0.025049\n",
       "dd_sym_d_before           0.022859\n",
       "dd_sym_s_before           0.021124\n",
       "td_sym_a_gender_before    0.020680\n",
       "vape                      0.018967\n",
       "dd_sym_a_before           0.014912\n",
       "symptom_a                 0.011022\n",
       "symptom_d                 0.010577\n",
       "dd_gender_symptom_d       0.008393\n",
       "dd_gender_symptom_a       0.008107"
      ]
     },
     "execution_count": 27,
     "metadata": {},
     "output_type": "execute_result"
    }
   ],
   "source": [
    "X_train, X_test, y_train, y_test = train_test_split(X, y, random_state = 13)\n",
    "model = RandomForestRegressor().fit(X_train,y_train)\n",
    "pd.DataFrame(model.feature_importances_,\n",
    "            index = df.drop('after', axis = 1).columns,\n",
    "            columns=['importance']).sort_values('importance',ascending=False)"
   ]
  },
  {
   "cell_type": "markdown",
   "metadata": {},
   "source": [
    "There's a lot of conflicting information between the features that are stated to be important by the Random Forest versus the correlative features.  The only easily reliable take away is that we can drop the duplicated features which don't include gender or how one was feeling before."
   ]
  },
  {
   "cell_type": "code",
   "execution_count": 28,
   "metadata": {},
   "outputs": [
    {
     "name": "stdout",
     "output_type": "stream",
     "text": [
      "Cumulative explained variance:  [0.74014488 0.88486921 0.95646131 0.97356168 0.98259934 0.98885746\n",
      " 0.99268617 0.99625726 0.99780178 0.99899917 0.99967986 0.99983516\n",
      " 0.99989637 0.99994167 0.9999636  0.99997484 0.99998409 0.99999008\n",
      " 0.99999511 0.99999753 0.99999858 0.9999994  0.99999977 1.\n",
      " 1.        ]\n"
     ]
    }
   ],
   "source": [
    "pca = PCA(svd_solver='auto')\n",
    "X = pca.fit_transform(X)\n",
    "\n",
    "print('Cumulative explained variance: ', np.cumsum(pca.explained_variance_ratio_))"
   ]
  },
  {
   "cell_type": "markdown",
   "metadata": {},
   "source": [
    "According to the PCA having only 10 features will account for 0.99899917% of the variance.  Thus I will be setting the components to 10."
   ]
  },
  {
   "cell_type": "code",
   "execution_count": 29,
   "metadata": {},
   "outputs": [],
   "source": [
    "X = PCA(n_components = 10, svd_solver='auto').fit_transform(X)"
   ]
  },
  {
   "cell_type": "markdown",
   "metadata": {},
   "source": [
    "### Modeling (Post Redundant Feature Dropping)"
   ]
  },
  {
   "cell_type": "code",
   "execution_count": 30,
   "metadata": {
    "scrolled": true
   },
   "outputs": [
    {
     "name": "stdout",
     "output_type": "stream",
     "text": [
      "RandomForestRegressor\n",
      "Train : 0.3999999999999999\n",
      "Test  : 1.1\n"
     ]
    }
   ],
   "source": [
    "df_results = run_model(RandomForestRegressor(), train_test_split(X, y, random_state = 13), df_results, \n",
    "                       run_notes = \"Pruned Features\")"
   ]
  },
  {
   "cell_type": "code",
   "execution_count": 31,
   "metadata": {},
   "outputs": [
    {
     "data": {
      "text/html": [
       "<div>\n",
       "<style scoped>\n",
       "    .dataframe tbody tr th:only-of-type {\n",
       "        vertical-align: middle;\n",
       "    }\n",
       "\n",
       "    .dataframe tbody tr th {\n",
       "        vertical-align: top;\n",
       "    }\n",
       "\n",
       "    .dataframe thead th {\n",
       "        text-align: right;\n",
       "    }\n",
       "</style>\n",
       "<table border=\"1\" class=\"dataframe\">\n",
       "  <thead>\n",
       "    <tr style=\"text-align: right;\">\n",
       "      <th></th>\n",
       "      <th>model</th>\n",
       "      <th>train_Median</th>\n",
       "      <th>test_Median</th>\n",
       "      <th>time</th>\n",
       "      <th>run_notes</th>\n",
       "    </tr>\n",
       "  </thead>\n",
       "  <tbody>\n",
       "    <tr>\n",
       "      <th>1</th>\n",
       "      <td>RandomForestRegressor</td>\n",
       "      <td>0.3</td>\n",
       "      <td>0.85</td>\n",
       "      <td>08/22/2019, 14:18:39</td>\n",
       "      <td>Run with all engineered features and normalized.</td>\n",
       "    </tr>\n",
       "    <tr>\n",
       "      <th>0</th>\n",
       "      <td>RandomForestRegressor</td>\n",
       "      <td>0.3</td>\n",
       "      <td>0.90</td>\n",
       "      <td>08/22/2019, 14:18:38</td>\n",
       "      <td>Run with all the engineered features</td>\n",
       "    </tr>\n",
       "    <tr>\n",
       "      <th>3</th>\n",
       "      <td>RandomForestRegressor</td>\n",
       "      <td>0.3</td>\n",
       "      <td>0.90</td>\n",
       "      <td>08/22/2019, 14:18:40</td>\n",
       "      <td>Run with all engineered features and Standardi...</td>\n",
       "    </tr>\n",
       "    <tr>\n",
       "      <th>4</th>\n",
       "      <td>RandomForestRegressor</td>\n",
       "      <td>0.3</td>\n",
       "      <td>0.90</td>\n",
       "      <td>08/22/2019, 14:19:00</td>\n",
       "      <td>Run with all engineered features and normalized.</td>\n",
       "    </tr>\n",
       "    <tr>\n",
       "      <th>5</th>\n",
       "      <td>RandomForestRegressor</td>\n",
       "      <td>0.3</td>\n",
       "      <td>0.90</td>\n",
       "      <td>08/22/2019, 14:19:05</td>\n",
       "      <td>Run with all engineered features and normalized.</td>\n",
       "    </tr>\n",
       "    <tr>\n",
       "      <th>6</th>\n",
       "      <td>RandomForestRegressor</td>\n",
       "      <td>0.3</td>\n",
       "      <td>0.90</td>\n",
       "      <td>08/22/2019, 14:19:07</td>\n",
       "      <td>Run with all engineered features and normalized.</td>\n",
       "    </tr>\n",
       "    <tr>\n",
       "      <th>2</th>\n",
       "      <td>RandomForestRegressor</td>\n",
       "      <td>0.3</td>\n",
       "      <td>0.90</td>\n",
       "      <td>08/22/2019, 14:18:39</td>\n",
       "      <td>Run with all engineered features and MinMaxed.</td>\n",
       "    </tr>\n",
       "    <tr>\n",
       "      <th>7</th>\n",
       "      <td>RandomForestRegressor</td>\n",
       "      <td>0.4</td>\n",
       "      <td>1.10</td>\n",
       "      <td>08/22/2019, 14:35:14</td>\n",
       "      <td>Pruned Features</td>\n",
       "    </tr>\n",
       "  </tbody>\n",
       "</table>\n",
       "</div>"
      ],
      "text/plain": [
       "                   model  train_Median  test_Median                  time  \\\n",
       "1  RandomForestRegressor           0.3         0.85  08/22/2019, 14:18:39   \n",
       "0  RandomForestRegressor           0.3         0.90  08/22/2019, 14:18:38   \n",
       "3  RandomForestRegressor           0.3         0.90  08/22/2019, 14:18:40   \n",
       "4  RandomForestRegressor           0.3         0.90  08/22/2019, 14:19:00   \n",
       "5  RandomForestRegressor           0.3         0.90  08/22/2019, 14:19:05   \n",
       "6  RandomForestRegressor           0.3         0.90  08/22/2019, 14:19:07   \n",
       "2  RandomForestRegressor           0.3         0.90  08/22/2019, 14:18:39   \n",
       "7  RandomForestRegressor           0.4         1.10  08/22/2019, 14:35:14   \n",
       "\n",
       "                                           run_notes  \n",
       "1   Run with all engineered features and normalized.  \n",
       "0               Run with all the engineered features  \n",
       "3  Run with all engineered features and Standardi...  \n",
       "4   Run with all engineered features and normalized.  \n",
       "5   Run with all engineered features and normalized.  \n",
       "6   Run with all engineered features and normalized.  \n",
       "2     Run with all engineered features and MinMaxed.  \n",
       "7                                    Pruned Features  "
      ]
     },
     "execution_count": 31,
     "metadata": {},
     "output_type": "execute_result"
    }
   ],
   "source": [
    "df_results.sort_values('test_Median').head(5)"
   ]
  },
  {
   "cell_type": "markdown",
   "metadata": {},
   "source": [
    "Unfortunatly, The pruning of features has only resulted in a less efficient model.  As such I will be leaving the current set of features as is."
   ]
  },
  {
   "cell_type": "markdown",
   "metadata": {},
   "source": [
    "------------------------"
   ]
  },
  {
   "cell_type": "markdown",
   "metadata": {},
   "source": [
    "# Final Gridsearching"
   ]
  },
  {
   "cell_type": "markdown",
   "metadata": {},
   "source": [
    " - n_estimators = number of trees in the foreset\n",
    " - max_features = max number of features considered for splitting a node\n",
    " - max_depth = max number of levels in each decision tree\n",
    " - min_samples_split = min number of data points placed in a node before the node is split\n",
    " - min_samples_leaf = min number of data points allowed in a leaf node"
   ]
  },
  {
   "cell_type": "code",
   "execution_count": 86,
   "metadata": {
    "scrolled": true
   },
   "outputs": [
    {
     "name": "stdout",
     "output_type": "stream",
     "text": [
      "Fitting 3 folds for each of 2 candidates, totalling 6 fits\n"
     ]
    },
    {
     "name": "stderr",
     "output_type": "stream",
     "text": [
      "[Parallel(n_jobs=3)]: Done   6 out of   6 | elapsed:    8.1s finished\n"
     ]
    },
    {
     "name": "stdout",
     "output_type": "stream",
     "text": [
      "GridSearchCV(cv=3, error_score='raise',\n",
      "       estimator=RandomForestRegressor\n",
      "Train : 0.44061848645182\n",
      "Test  : 0.8767068836513281\n"
     ]
    }
   ],
   "source": [
    "#df_gridsearch = pd.DataFrame()\n",
    "# Last gridsearch after about 10 trials.\n",
    "params = {\n",
    "    'n_estimators'      : [135],\n",
    "    'min_samples_split' : [5, 6],\n",
    "    'min_samples_leaf'  : [2]\n",
    "}\n",
    "grid_RForest = GridSearchCV(RandomForestRegressor(), params, cv=3, n_jobs= 3, verbose = 1)\n",
    "\n",
    "X = df.drop('after', axis = 1)\n",
    "df_results = run_model(grid_RForest, train_test_split(X, y, random_state = 13), df_results)  \n",
    "df_results['run_notes'][df_results.shape[0] - 1] = \"Best Params: \" + str(grid_RForest.best_params_)"
   ]
  },
  {
   "cell_type": "markdown",
   "metadata": {},
   "source": [
    "While the hyperparameters where left as the following, the slight variations in a better or worse model when compairing finer details, such as 125 or 135 estimators, or the minimum samples split being 5 or 6 ended up mostly being up to random chance.\n",
    "The results of the gridsearch being so inconsistent and sporratic tells me that this random chance is playing too high of a factor to get much better of a score than, on average, about 0.867 in the Median Error.  I suspect that this is a result of not having a complex enough model or not having enough information that would be able to more accuratly predict the outcomes of how one will feel after ingesting the cannabis."
   ]
  },
  {
   "cell_type": "code",
   "execution_count": 87,
   "metadata": {},
   "outputs": [
    {
     "data": {
      "text/plain": [
       "\"Best Params: {'min_samples_leaf': 2, 'min_samples_split': 6, 'n_estimators': 135}\""
      ]
     },
     "execution_count": 87,
     "metadata": {},
     "output_type": "execute_result"
    }
   ],
   "source": [
    "df_results['run_notes'][df_results.shape[0] - 1]"
   ]
  },
  {
   "cell_type": "code",
   "execution_count": 88,
   "metadata": {
    "scrolled": true
   },
   "outputs": [
    {
     "data": {
      "text/html": [
       "<div>\n",
       "<style scoped>\n",
       "    .dataframe tbody tr th:only-of-type {\n",
       "        vertical-align: middle;\n",
       "    }\n",
       "\n",
       "    .dataframe tbody tr th {\n",
       "        vertical-align: top;\n",
       "    }\n",
       "\n",
       "    .dataframe thead th {\n",
       "        text-align: right;\n",
       "    }\n",
       "</style>\n",
       "<table border=\"1\" class=\"dataframe\">\n",
       "  <thead>\n",
       "    <tr style=\"text-align: right;\">\n",
       "      <th></th>\n",
       "      <th>model</th>\n",
       "      <th>train_Median</th>\n",
       "      <th>test_Median</th>\n",
       "      <th>time</th>\n",
       "      <th>run_notes</th>\n",
       "    </tr>\n",
       "  </thead>\n",
       "  <tbody>\n",
       "    <tr>\n",
       "      <th>1</th>\n",
       "      <td>RandomForestRegressor</td>\n",
       "      <td>0.300000</td>\n",
       "      <td>0.850000</td>\n",
       "      <td>08/22/2019, 14:18:39</td>\n",
       "      <td>Run with all engineered features and normalized.</td>\n",
       "    </tr>\n",
       "    <tr>\n",
       "      <th>13</th>\n",
       "      <td>GridSearchCV(cv=3, error_score='raise',\\n     ...</td>\n",
       "      <td>0.435090</td>\n",
       "      <td>0.861693</td>\n",
       "      <td>08/22/2019, 16:23:19</td>\n",
       "      <td>Best Params: {'min_samples_leaf': 2, 'min_samp...</td>\n",
       "    </tr>\n",
       "    <tr>\n",
       "      <th>11</th>\n",
       "      <td>GridSearchCV(cv=3, error_score='raise',\\n     ...</td>\n",
       "      <td>0.412290</td>\n",
       "      <td>0.864246</td>\n",
       "      <td>08/22/2019, 16:17:45</td>\n",
       "      <td>Best Params: {'min_samples_leaf': 2, 'min_samp...</td>\n",
       "    </tr>\n",
       "    <tr>\n",
       "      <th>14</th>\n",
       "      <td>GridSearchCV(cv=3, error_score='raise',\\n     ...</td>\n",
       "      <td>0.413841</td>\n",
       "      <td>0.867601</td>\n",
       "      <td>08/22/2019, 16:25:34</td>\n",
       "      <td>Best Params: {'min_samples_leaf': 2, 'min_samp...</td>\n",
       "    </tr>\n",
       "    <tr>\n",
       "      <th>9</th>\n",
       "      <td>GridSearchCV(cv=3, error_score='raise',\\n     ...</td>\n",
       "      <td>0.410720</td>\n",
       "      <td>0.867821</td>\n",
       "      <td>08/22/2019, 16:07:38</td>\n",
       "      <td>Best Params: {'max_features': 'auto', 'min_sam...</td>\n",
       "    </tr>\n",
       "    <tr>\n",
       "      <th>12</th>\n",
       "      <td>GridSearchCV(cv=3, error_score='raise',\\n     ...</td>\n",
       "      <td>0.384018</td>\n",
       "      <td>0.874797</td>\n",
       "      <td>08/22/2019, 16:19:52</td>\n",
       "      <td>Best Params: {'min_samples_leaf': 1, 'min_samp...</td>\n",
       "    </tr>\n",
       "    <tr>\n",
       "      <th>10</th>\n",
       "      <td>GridSearchCV(cv=3, error_score='raise',\\n     ...</td>\n",
       "      <td>0.440176</td>\n",
       "      <td>0.874922</td>\n",
       "      <td>08/22/2019, 16:12:37</td>\n",
       "      <td>Best Params: {'min_samples_leaf': 2, 'min_samp...</td>\n",
       "    </tr>\n",
       "    <tr>\n",
       "      <th>15</th>\n",
       "      <td>GridSearchCV(cv=3, error_score='raise',\\n     ...</td>\n",
       "      <td>0.440618</td>\n",
       "      <td>0.876707</td>\n",
       "      <td>08/22/2019, 16:26:25</td>\n",
       "      <td>Best Params: {'min_samples_leaf': 2, 'min_samp...</td>\n",
       "    </tr>\n",
       "    <tr>\n",
       "      <th>0</th>\n",
       "      <td>RandomForestRegressor</td>\n",
       "      <td>0.300000</td>\n",
       "      <td>0.900000</td>\n",
       "      <td>08/22/2019, 14:18:38</td>\n",
       "      <td>Run with all the engineered features</td>\n",
       "    </tr>\n",
       "    <tr>\n",
       "      <th>3</th>\n",
       "      <td>RandomForestRegressor</td>\n",
       "      <td>0.300000</td>\n",
       "      <td>0.900000</td>\n",
       "      <td>08/22/2019, 14:18:40</td>\n",
       "      <td>Run with all engineered features and Standardi...</td>\n",
       "    </tr>\n",
       "  </tbody>\n",
       "</table>\n",
       "</div>"
      ],
      "text/plain": [
       "                                                model  train_Median  \\\n",
       "1                               RandomForestRegressor      0.300000   \n",
       "13  GridSearchCV(cv=3, error_score='raise',\\n     ...      0.435090   \n",
       "11  GridSearchCV(cv=3, error_score='raise',\\n     ...      0.412290   \n",
       "14  GridSearchCV(cv=3, error_score='raise',\\n     ...      0.413841   \n",
       "9   GridSearchCV(cv=3, error_score='raise',\\n     ...      0.410720   \n",
       "12  GridSearchCV(cv=3, error_score='raise',\\n     ...      0.384018   \n",
       "10  GridSearchCV(cv=3, error_score='raise',\\n     ...      0.440176   \n",
       "15  GridSearchCV(cv=3, error_score='raise',\\n     ...      0.440618   \n",
       "0                               RandomForestRegressor      0.300000   \n",
       "3                               RandomForestRegressor      0.300000   \n",
       "\n",
       "    test_Median                  time  \\\n",
       "1      0.850000  08/22/2019, 14:18:39   \n",
       "13     0.861693  08/22/2019, 16:23:19   \n",
       "11     0.864246  08/22/2019, 16:17:45   \n",
       "14     0.867601  08/22/2019, 16:25:34   \n",
       "9      0.867821  08/22/2019, 16:07:38   \n",
       "12     0.874797  08/22/2019, 16:19:52   \n",
       "10     0.874922  08/22/2019, 16:12:37   \n",
       "15     0.876707  08/22/2019, 16:26:25   \n",
       "0      0.900000  08/22/2019, 14:18:38   \n",
       "3      0.900000  08/22/2019, 14:18:40   \n",
       "\n",
       "                                            run_notes  \n",
       "1    Run with all engineered features and normalized.  \n",
       "13  Best Params: {'min_samples_leaf': 2, 'min_samp...  \n",
       "11  Best Params: {'min_samples_leaf': 2, 'min_samp...  \n",
       "14  Best Params: {'min_samples_leaf': 2, 'min_samp...  \n",
       "9   Best Params: {'max_features': 'auto', 'min_sam...  \n",
       "12  Best Params: {'min_samples_leaf': 1, 'min_samp...  \n",
       "10  Best Params: {'min_samples_leaf': 2, 'min_samp...  \n",
       "15  Best Params: {'min_samples_leaf': 2, 'min_samp...  \n",
       "0                Run with all the engineered features  \n",
       "3   Run with all engineered features and Standardi...  "
      ]
     },
     "execution_count": 88,
     "metadata": {},
     "output_type": "execute_result"
    }
   ],
   "source": [
    "df_results.sort_values('test_Median').head(10)"
   ]
  },
  {
   "cell_type": "markdown",
   "metadata": {},
   "source": [
    "---"
   ]
  },
  {
   "cell_type": "markdown",
   "metadata": {},
   "source": [
    "## Splitting Train & Test by a User's Last Session"
   ]
  },
  {
   "cell_type": "code",
   "execution_count": 95,
   "metadata": {},
   "outputs": [],
   "source": [
    "list_last_session_indexes = []\n",
    "list_ids = [i for i in df['userid'].unique()]\n",
    "for i in list_ids:\n",
    "    mask = df['userid'] == i\n",
    "    list_last_session_indexes.append(df[mask]['session'].argmax())\n",
    "\n",
    "df_test  = df.loc[list_last_session_indexes]\n",
    "df_train = df.drop(list_last_session_indexes)"
   ]
  },
  {
   "cell_type": "code",
   "execution_count": 97,
   "metadata": {},
   "outputs": [
    {
     "name": "stdout",
     "output_type": "stream",
     "text": [
      "observations in training set: 9002\n",
      "Observations with more than 1 sessions: 647\n",
      "RandomForestRegressor\n",
      "Train : 0.3\n",
      "Test  : 1.0\n"
     ]
    }
   ],
   "source": [
    "num = 1\n",
    "mask = df_test['session'] > num\n",
    "df_test_without_newbies = df_test[mask]\n",
    "print('observations in training set:', df_train.shape[0])\n",
    "print('Observations with more than', num, 'sessions:', df_test_without_newbies.shape[0])\n",
    "X_train = df_train.drop('after', axis = 1)\n",
    "y_train = df_train['after']\n",
    "X_test  = df_test_without_newbies.drop('after', axis = 1)\n",
    "y_test  = df_test_without_newbies['after']\n",
    "df_results = run_model(RandomForestRegressor(), (X_train, X_test, y_train, y_test), df_results, \n",
    "                       run_notes= \"Run with splits along sesson\" + str(num) + \".\")"
   ]
  },
  {
   "cell_type": "markdown",
   "metadata": {},
   "source": [
    "Across the board it's worse than just pulling random samples.  This is unfortunate for my hopes of getting the RMSE score down, but I don't regret putting in the work to represent "
   ]
  },
  {
   "cell_type": "code",
   "execution_count": 98,
   "metadata": {},
   "outputs": [
    {
     "name": "stdout",
     "output_type": "stream",
     "text": [
      "Observations with more than 5 sessions: 273\n",
      "RandomForestRegressor\n",
      "Train : 0.3\n",
      "Test  : 0.8999999999999999\n"
     ]
    }
   ],
   "source": [
    "num = 5\n",
    "mask = df_test['session'] > num\n",
    "df_test_without_newbies = df_test[mask]\n",
    "print('Observations with more than', num, 'sessions:', df_test_without_newbies.shape[0])\n",
    "X_train = df_train.drop('after', axis = 1)\n",
    "y_train = df_train['after']\n",
    "X_test  = df_test_without_newbies.drop('after', axis = 1)\n",
    "y_test  = df_test_without_newbies['after']\n",
    "df_results = run_model(RandomForestRegressor(), X_train, X_test, y_train, y_test, df_results, \n",
    "                       run_notes= \"Run with splits along sesson\" + str(num) + \".\")"
   ]
  },
  {
   "cell_type": "markdown",
   "metadata": {},
   "source": [
    "Hmm.  While it's still not enough in range of the baseline, it IS better than with those for whome it's only been thier first time."
   ]
  },
  {
   "cell_type": "code",
   "execution_count": 99,
   "metadata": {
    "scrolled": true
   },
   "outputs": [],
   "source": [
    "list_dict_splits = []\n",
    "for num in range(31):\n",
    "    mask = df_test['session'] > num\n",
    "    df_test_without_newbies = df_test[mask]\n",
    "    X_train = df_train.drop('after', axis = 1)\n",
    "    y_train = df_train['after']\n",
    "    X_test  = df_test_without_newbies.drop('after', axis = 1)\n",
    "    y_test  = df_test_without_newbies['after']\n",
    "    list_dict_splits.append({\n",
    "        'Median_error_1' : metrics.median_absolute_error(y_test,\n",
    "            RandomForestRegressor().fit(X_train, y_train).predict(X_test)),\n",
    "        'Median_error_2' : metrics.median_absolute_error(y_test,\n",
    "            RandomForestRegressor().fit(X_train, y_train).predict(X_test)),\n",
    "        'Median_error_3' : metrics.median_absolute_error(y_test,\n",
    "            RandomForestRegressor().fit(X_train, y_train).predict(X_test)),\n",
    "        'Observations' : df_test_without_newbies.shape[0],\n",
    "        'Sess_more_than' : num})"
   ]
  },
  {
   "cell_type": "code",
   "execution_count": 100,
   "metadata": {},
   "outputs": [
    {
     "data": {
      "image/png": "[encoded data removed]",
      "text/plain": [
       "<Figure size 432x288 with 1 Axes>"
      ]
     },
     "metadata": {
      "needs_background": "light"
     },
     "output_type": "display_data"
    }
   ],
   "source": [
    "df_splits = pd.DataFrame(list_dict_splits)\n",
    "\n",
    "df_splits['Avg_median'] = df_splits.loc[:,\"Median_error_1\":\"Median_error_3\"].mean(axis = 1)\n",
    "\n",
    "sns.lineplot(df_splits['Sess_more_than'], df_splits['Avg_median']);"
   ]
  },
  {
   "cell_type": "code",
   "execution_count": 101,
   "metadata": {},
   "outputs": [
    {
     "name": "stdout",
     "output_type": "stream",
     "text": [
      "Observations over 30: 30\n"
     ]
    },
    {
     "data": {
      "image/png": "[encoded data removed]",
      "text/plain": [
       "<Figure size 432x288 with 1 Axes>"
      ]
     },
     "metadata": {
      "needs_background": "light"
     },
     "output_type": "display_data"
    }
   ],
   "source": [
    "sns.lineplot(df_splits['Sess_more_than'],df_splits['Observations']);\n",
    "\n",
    "print('Observations over 30:', df_splits['Sess_more_than'][30])"
   ]
  },
  {
   "cell_type": "markdown",
   "metadata": {},
   "source": [
    "This shows that the more data we're given about a user the more accurate we can make our predictions.  [Most notably the difference of 0.2 accuracy between 0 and 5, 0.1 from that to 18-ish]"
   ]
  },
  {
   "cell_type": "code",
   "execution_count": 102,
   "metadata": {},
   "outputs": [
    {
     "name": "stdout",
     "output_type": "stream",
     "text": [
      "Observations with more than 15 sessions: 102\n",
      "RandomForestRegressor\n",
      "Train : 0.2999999999999998\n",
      "Test  : 0.8500000000000003\n"
     ]
    }
   ],
   "source": [
    "num = 15\n",
    "mask = df_test['session'] > num\n",
    "df_test_without_newbies = df_test[mask]\n",
    "print('Observations with more than', num, 'sessions:', df_test_without_newbies.shape[0])\n",
    "X_train = df_train.drop('after', axis = 1)\n",
    "y_train = df_train['after']\n",
    "X_test  = df_test_without_newbies.drop('after', axis = 1)\n",
    "y_test  = df_test_without_newbies['after']\n",
    "df_results = run_model(RandomForestRegressor(), X_train, X_test, y_train, y_test, df_results, \n",
    "                       run_notes= \"Run with splits along sesson\" + str(num) + \".\")"
   ]
  },
  {
   "cell_type": "code",
   "execution_count": 105,
   "metadata": {},
   "outputs": [
    {
     "name": "stdout",
     "output_type": "stream",
     "text": [
      "Observations with more than 30 sessions: 53\n",
      "RandomForestRegressor\n",
      "Train : 0.3\n",
      "Test  : 0.8000000000000007\n"
     ]
    }
   ],
   "source": [
    "num = 30\n",
    "mask = df_test['session'] > num\n",
    "df_test_without_newbies = df_test[mask]\n",
    "print('Observations with more than', num, 'sessions:', df_test_without_newbies.shape[0])\n",
    "X_train = df_train.drop('after', axis = 1)\n",
    "y_train = df_train['after']\n",
    "X_test  = df_test_without_newbies.drop('after', axis = 1)\n",
    "y_test  = df_test_without_newbies['after']\n",
    "df_results = run_model(RandomForestRegressor(), X_train, X_test, y_train, y_test, df_results, \n",
    "                       run_notes= \"Run with splits along sesson\" + str(num) + \".\")"
   ]
  },
  {
   "cell_type": "markdown",
   "metadata": {},
   "source": [
    "This process mimicks a real world application of processing the data."
   ]
  },
  {
   "cell_type": "markdown",
   "metadata": {},
   "source": [
    "---"
   ]
  }
 ],
 "metadata": {
  "kernelspec": {
   "display_name": "Python 3",
   "language": "python",
   "name": "python3"
  },
  "language_info": {
   "codemirror_mode": {
    "name": "ipython",
    "version": 3
   },
   "file_extension": ".py",
   "mimetype": "text/x-python",
   "name": "python",
   "nbconvert_exporter": "python",
   "pygments_lexer": "ipython3",
   "version": "3.7.0"
  }
 },
 "nbformat": 4,
 "nbformat_minor": 2
}
